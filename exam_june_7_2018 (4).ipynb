{
 "cells": [
  {
   "cell_type": "markdown",
   "metadata": {},
   "source": [
    "Before you turn this problem in, make sure everything runs as expected. First, **restart the kernel** (in the menubar, select Kernel$\\rightarrow$Restart) and then **run all cells** (in the menubar, select Cell$\\rightarrow$Run All).\n",
    "\n",
    "Make sure you fill in any place that says `YOUR CODE HERE` or \"YOUR ANSWER HERE\", as well as your name and collaborators below:"
   ]
  },
  {
   "cell_type": "code",
   "execution_count": 1,
   "metadata": {},
   "outputs": [],
   "source": [
    "NAME = \"Aram Klijn, ANR: 359342, SNR: 1279660\"\n",
    "COLLABORATORS = \"Rohan Chatterjee, ANR: 909910, SNR: 2008264\""
   ]
  },
  {
   "cell_type": "markdown",
   "metadata": {},
   "source": [
    "---"
   ]
  },
  {
   "cell_type": "markdown",
   "metadata": {},
   "source": [
    "Fill in the cell above to provide us with your name and student number, like\n",
    "\n",
    "NAME = \"Adam Smith, #student number#\"\n",
    "\n",
    "where you replace \"#student number#\" with your ... (very good!)\n",
    "\n",
    "and if you are doing this with someone else (not more than one other person):\n",
    "\n",
    "COLLABORATORS = \"Karl Marx, #student number#\""
   ]
  },
  {
   "cell_type": "markdown",
   "metadata": {
    "deletable": false,
    "editable": false,
    "nbgrader": {
     "checksum": "a7ae5c69becf064d614c6c38935eca51",
     "grade": false,
     "grade_id": "cell-895e9a7b94992ec9",
     "locked": true,
     "schema_version": 1,
     "solution": false
    }
   },
   "source": [
    "# exam June 7th, 2018\n"
   ]
  },
  {
   "cell_type": "markdown",
   "metadata": {
    "deletable": false,
    "editable": false,
    "nbgrader": {
     "checksum": "bc48d165f54aa364aa34509649fcdef5",
     "grade": false,
     "grade_id": "cell-540987818af25557",
     "locked": true,
     "schema_version": 1,
     "solution": false
    }
   },
   "source": [
    "\n",
    "In the first cell of the notebook, give us your name and student number in the way indicated above. If you do this notebook with --at max.-- one other student, give her/his name and student number as well under \"COLLABORATORS\".\n",
    "\n",
    "Fill in the notebook (see below for code cells and text cells that you need to fill in).\n",
    "\n",
    "If you look at the menus above (File, Edit, View etc.), there is one called \"Cell\". If you click on this, you can change the \"Cell Type\". Choose \"Code\" when you are typing python or R code. Choose \"Markdown\" when you are typing, well, markdown.\n",
    "\n",
    "When you finish the notebook, make sure that you **save it with the output of your code included**. \n",
    "\n",
    "Then put it on github, e.g. by dragging it onto github (see instructions below). \n",
    "\n",
    "Finally, add a link to your README file with the name of this exam: \"Exam June 7, 2018\".\n",
    "\n"
   ]
  },
  {
   "cell_type": "markdown",
   "metadata": {
    "deletable": false,
    "editable": false,
    "nbgrader": {
     "checksum": "6fad9bed312da1b0097e9c520b18e3fb",
     "grade": false,
     "grade_id": "cell-e1cf88cb799f1f43",
     "locked": true,
     "schema_version": 1,
     "solution": false
    }
   },
   "source": [
    "## price effects of mergers\n",
    "\n",
    "We consider a merger in this notebook. \n",
    "\n",
    "First we calculate the equilibrium with three firms, denoted by 1, 2 and 3. Then firms 2 and 3 merge so that we are left with 2 firms; denoted by 1 and 2.\n",
    "\n",
    "We calculate the effects of the merger on the equilibrium price.\n",
    "\n",
    "We start by importing the usual libraries."
   ]
  },
  {
   "cell_type": "code",
   "execution_count": 2,
   "metadata": {
    "deletable": false,
    "editable": false,
    "nbgrader": {
     "checksum": "7bd770ef54db47c3b6c8d0e31f6baef6",
     "grade": false,
     "grade_id": "cell-b895769bf40e183a",
     "locked": true,
     "schema_version": 1,
     "solution": false
    }
   },
   "outputs": [],
   "source": [
    "import matplotlib.pyplot as plt\n",
    "import pandas as pd\n",
    "import numpy as np\n",
    "from scipy import optimize\n",
    "%matplotlib inline"
   ]
  },
  {
   "cell_type": "markdown",
   "metadata": {},
   "source": [
    "The following code helps to calculate the equilibrium for the case with 3 firms. Note that you have seen similar code during the tutorials to calculate the equilibrium with 2 firms.\n",
    "\n",
    "We assume that before the merger each firm has constant marginal costs equal to 0.3. We assume a simple linear (inverse) demand curve of the form $p=1-Q$ where $p$ denotes price and $Q$ total output on the market. Total output equals the sum of each firm's output: $Q= q_1 + q_2+q_3$."
   ]
  },
  {
   "cell_type": "code",
   "execution_count": 3,
   "metadata": {
    "deletable": false,
    "editable": false,
    "nbgrader": {
     "checksum": "3e30f7ac9d9155ef089b8ca56a0c0436",
     "grade": false,
     "grade_id": "cell-f97a25efed556fd2",
     "locked": true,
     "schema_version": 1,
     "solution": false
    }
   },
   "outputs": [],
   "source": [
    "c0 = 0.3\n",
    "vector_c = [c0]*3\n",
    "\n",
    "def p(Q):\n",
    "    return 1 - Q\n",
    "\n",
    "def costs(q,c):\n",
    "    return c*q\n",
    "\n",
    "def profits(q,Q_other,c):\n",
    "    return p(q+Q_other)*q-costs(q,c)\n",
    "\n",
    "def reaction(Q_other,c):\n",
    "    q1 =  optimize.fminbound(lambda x: -profits(x,Q_other,c),0,1,full_output=1)\n",
    "    return q1[0]\n",
    "\n",
    "def fixed_point_three_firms(vector_q,vector_c):\n",
    "    return [vector_q[0]-reaction(vector_q[1]+vector_q[2],vector_c[0]),\n",
    "            vector_q[1]-reaction(vector_q[0]+vector_q[2],vector_c[1]),\n",
    "            vector_q[2]-reaction(vector_q[0]+vector_q[1],vector_c[2])]\n",
    "\n"
   ]
  },
  {
   "cell_type": "markdown",
   "metadata": {
    "deletable": false,
    "editable": false,
    "nbgrader": {
     "checksum": "f6ea3b2416aca7293a5450c45865f242",
     "grade": false,
     "grade_id": "cell-83284c4090d6de8c",
     "locked": true,
     "schema_version": 1,
     "solution": false
    }
   },
   "source": [
    "#### a) [0.5 points] Show that total equilibrium output equals  0.525. Derive the equilibrium price and Herfindahl index; denote these by `P0` and `H0` resp."
   ]
  },
  {
   "cell_type": "code",
   "execution_count": 11,
   "metadata": {
    "deletable": false,
    "nbgrader": {
     "checksum": "a06d73c35395adb00480733b458cb4a5",
     "grade": true,
     "grade_id": "cell-3b8ee172d9950128",
     "locked": false,
     "points": 0.5,
     "schema_version": 1,
     "solution": true
    }
   },
   "outputs": [
    {
     "name": "stdout",
     "output_type": "stream",
     "text": [
      "0.333333333333\n",
      "0.475\n",
      "0.525\n"
     ]
    }
   ],
   "source": [
    "initial_guess3=[0,0,0]\n",
    "r=optimize.fsolve(lambda q: fixed_point_three_firms(q,[0.3,0.3,0.3]), initial_guess3)\n",
    "q1=r[0]\n",
    "q2=r[1]\n",
    "q3=r[2]\n",
    "Q=q1+q2+q3\n",
    "H0=(q1/Q)**2+(q2/Q)**2+(q3/Q)**2\n",
    "print(H0)\n",
    "P0=1-Q\n",
    "print(P0)\n",
    "print(Q)\n"
   ]
  },
  {
   "cell_type": "markdown",
   "metadata": {
    "deletable": false,
    "editable": false,
    "nbgrader": {
     "checksum": "87b3b3e0e2d645c280e279312e489dc4",
     "grade": false,
     "grade_id": "cell-4b33762aa4a601fe",
     "locked": true,
     "schema_version": 1,
     "solution": false
    }
   },
   "source": [
    "#### b) [0.5 point] Define a function `fixed_point_two_firms` with the same structure as the function `fixed_point_three_firms` above, except that it derives the equilibrium output levels for a duopoly (two firms). Test this function by showing that each of the two firms produces 0.3333 in case both firms have zero costs."
   ]
  },
  {
   "cell_type": "code",
   "execution_count": 12,
   "metadata": {
    "deletable": false,
    "nbgrader": {
     "checksum": "024a1519155d681b57c85292df535a65",
     "grade": true,
     "grade_id": "cell-5ee215676b91f504",
     "locked": false,
     "points": 0.5,
     "schema_version": 1,
     "solution": true
    }
   },
   "outputs": [
    {
     "name": "stdout",
     "output_type": "stream",
     "text": [
      "[ 0.33333333  0.33333333]\n"
     ]
    }
   ],
   "source": [
    "initial_guess=[0,0]\n",
    "def fixed_point_two_firms(vector_q,vector_c):\n",
    "    return [vector_q[0]-reaction(vector_q[1],vector_c[0]),\n",
    "            vector_q[1]-reaction(vector_q[0],vector_c[1])]\n",
    "r_2=optimize.fsolve(lambda q: fixed_point_two_firms(q,[0,0]), initial_guess)\n",
    "print(r_2)"
   ]
  },
  {
   "cell_type": "markdown",
   "metadata": {
    "deletable": false,
    "editable": false,
    "nbgrader": {
     "checksum": "5291fc8716e367572fde17ebe5844d2f",
     "grade": false,
     "grade_id": "cell-c2fada02efd7b197",
     "locked": true,
     "schema_version": 1,
     "solution": false
    }
   },
   "source": [
    "The Dutch competition authority, ACM, is asked to evaluate the effects of a merger between firms 2 and 3. Firms 2 and 3 claim that by merging they can reduce their constant marginal costs. But it is not clear by how much they will reduce their costs.\n",
    "\n",
    "The ACM assumes that the marginal cost level of the merged firm is uniformly distributed between 0 and the current marginal cost level `c0`. The merger will not affect the marginal cost level of firm 1 who does not merge. Firm 1's cost level remains `c0`.\n",
    "\n",
    "The next cell generates a vector of cost levels for the merged firm, denoted `c_after_merger`. Evaluate \"c_after_merger\" in a separate cell if you do not understand the command that defines it.\n",
    "\n",
    "Then it calculates the equilibrium output levels for (the non-merging) firm 1 and (the merged) firm 2.\n",
    "\n",
    "Note that you need to specify `initial_guess`.\n"
   ]
  },
  {
   "cell_type": "code",
   "execution_count": 17,
   "metadata": {
    "deletable": false,
    "editable": false,
    "nbgrader": {
     "checksum": "11299317cd53e31de9900700999b0324",
     "grade": false,
     "grade_id": "cell-ce91ab3e3225c57d",
     "locked": true,
     "schema_version": 1,
     "solution": false
    }
   },
   "outputs": [],
   "source": [
    "c_after_merger = np.random.uniform(0,c0,size = 100)\n",
    "\n",
    "q1_after_merger = [optimize.fsolve(lambda q: fixed_point_two_firms(q,[c0,c]), initial_guess)[0] for c in c_after_merger]\n",
    "q2_after_merger = [optimize.fsolve(lambda q: fixed_point_two_firms(q,[c0,c]), initial_guess)[1] for c in c_after_merger]\n",
    "\n",
    "\n"
   ]
  },
  {
   "cell_type": "markdown",
   "metadata": {
    "deletable": false,
    "editable": false,
    "nbgrader": {
     "checksum": "2b518306d6ff20ee42d0bc3085333095",
     "grade": false,
     "grade_id": "cell-0acc18b4f07a09f4",
     "locked": true,
     "schema_version": 1,
     "solution": false
    }
   },
   "source": [
    "#### c) [0.5 points] Create a dataframe called `df_after_merger` with three columns: `c_merged_firm`, `output_non_merging_firm`, `output_merged_firm` containing resp. the cost level of the merged firm, the output level of firm 1 and the output level of firm 2."
   ]
  },
  {
   "cell_type": "code",
   "execution_count": 21,
   "metadata": {
    "deletable": false,
    "nbgrader": {
     "checksum": "f4fc6a3bdef91fa3f656ccd3290c9f54",
     "grade": true,
     "grade_id": "cell-f3eacda828774f2d",
     "locked": false,
     "points": 0.5,
     "schema_version": 1,
     "solution": true
    }
   },
   "outputs": [
    {
     "name": "stdout",
     "output_type": "stream",
     "text": [
      "    c_merged_firm  output_merged_firm  output_non_merging_firm\n",
      "0        0.023170            0.417886                 0.141057\n",
      "1        0.112667            0.358222                 0.170889\n",
      "2        0.065238            0.389841                 0.155079\n",
      "3        0.010633            0.426245                 0.136878\n",
      "4        0.063031            0.391313                 0.154344\n",
      "5        0.199441            0.300373                 0.199814\n",
      "6        0.236881            0.275412                 0.212294\n",
      "7        0.272793            0.251472                 0.224264\n",
      "8        0.035545            0.409637                 0.145182\n",
      "9        0.272551            0.251633                 0.224184\n",
      "10       0.088018            0.374655                 0.162673\n",
      "11       0.222060            0.285293                 0.207353\n",
      "12       0.175492            0.316339                 0.191831\n",
      "13       0.168959            0.320694                 0.189653\n",
      "14       0.094394            0.370404                 0.164798\n",
      "15       0.195783            0.302811                 0.198594\n",
      "16       0.114468            0.357021                 0.171489\n",
      "17       0.252069            0.265288                 0.217356\n",
      "18       0.289268            0.240488                 0.229756\n",
      "19       0.054397            0.397069                 0.151466\n",
      "20       0.292799            0.238134                 0.230933\n",
      "21       0.138498            0.341002                 0.179499\n",
      "22       0.012890            0.424740                 0.137630\n",
      "23       0.184788            0.310141                 0.194929\n",
      "24       0.148145            0.334570                 0.182715\n",
      "25       0.027261            0.415159                 0.142420\n",
      "26       0.032058            0.411961                 0.144019\n",
      "27       0.120323            0.353118                 0.173441\n",
      "28       0.043096            0.404603                 0.147699\n",
      "29       0.274701            0.250199                 0.224900\n",
      "..            ...                 ...                      ...\n",
      "70       0.244198            0.270535                 0.214733\n",
      "71       0.160367            0.326422                 0.186789\n",
      "72       0.114535            0.356976                 0.171512\n",
      "73       0.020837            0.419442                 0.140279\n",
      "74       0.096825            0.368784                 0.165608\n",
      "75       0.084483            0.377012                 0.161494\n",
      "76       0.243956            0.270696                 0.214652\n",
      "77       0.109170            0.360553                 0.169723\n",
      "78       0.009469            0.427021                 0.136490\n",
      "79       0.120244            0.353171                 0.173415\n",
      "80       0.010326            0.426449                 0.136775\n",
      "81       0.004681            0.430213                 0.134894\n",
      "82       0.276600            0.248933                 0.225533\n",
      "83       0.042062            0.405292                 0.147354\n",
      "84       0.066724            0.388851                 0.155575\n",
      "85       0.010661            0.426226                 0.136887\n",
      "86       0.163007            0.324662                 0.187669\n",
      "87       0.100973            0.366018                 0.166991\n",
      "88       0.298934            0.234044                 0.232978\n",
      "89       0.021941            0.418706                 0.140647\n",
      "90       0.089829            0.373448                 0.163276\n",
      "91       0.279636            0.246909                 0.226545\n",
      "92       0.151680            0.332213                 0.183893\n",
      "93       0.170598            0.319601                 0.190199\n",
      "94       0.189778            0.306815                 0.196593\n",
      "95       0.048837            0.400775                 0.149612\n",
      "96       0.088210            0.374527                 0.162737\n",
      "97       0.154400            0.330400                 0.184800\n",
      "98       0.103657            0.364229                 0.167886\n",
      "99       0.078962            0.380692                 0.159654\n",
      "\n",
      "[100 rows x 3 columns]\n"
     ]
    }
   ],
   "source": [
    "columns = {'c_merged_firm':c_after_merger, 'output_non_merging_firm':q1_after_merger,'output_merged_firm':q2_after_merger}\n",
    "df_after_merger = pd.DataFrame(data=columns)\n",
    "print(df_after_merger)"
   ]
  },
  {
   "cell_type": "markdown",
   "metadata": {
    "deletable": false,
    "editable": false,
    "nbgrader": {
     "checksum": "a5bf4171960844da9c57375d83b6eedf",
     "grade": false,
     "grade_id": "cell-7ad058be42e19df8",
     "locked": true,
     "schema_version": 1,
     "solution": false
    }
   },
   "source": [
    "#### d) [0.5 points] Add three columns to the dataframe with resp. total equilibrium output on the market, `Q`, equilibrium price, `P` and the Herfindahl index, `H`."
   ]
  },
  {
   "cell_type": "code",
   "execution_count": 27,
   "metadata": {
    "deletable": false,
    "nbgrader": {
     "checksum": "ab6179623b39a6ae634abea45326e4ab",
     "grade": true,
     "grade_id": "cell-9c39b11747803ca1",
     "locked": false,
     "points": 0.5,
     "schema_version": 1,
     "solution": true
    }
   },
   "outputs": [
    {
     "name": "stdout",
     "output_type": "stream",
     "text": [
      "    c_merged_firm  output_merged_firm  output_non_merging_firm         Q  \\\n",
      "0        0.023170            0.417886                 0.141057  0.558943   \n",
      "1        0.112667            0.358222                 0.170889  0.529111   \n",
      "2        0.065238            0.389841                 0.155079  0.544921   \n",
      "3        0.010633            0.426245                 0.136878  0.563122   \n",
      "4        0.063031            0.391313                 0.154344  0.545656   \n",
      "5        0.199441            0.300373                 0.199814  0.500186   \n",
      "6        0.236881            0.275412                 0.212294  0.487706   \n",
      "7        0.272793            0.251472                 0.224264  0.475736   \n",
      "8        0.035545            0.409637                 0.145182  0.554818   \n",
      "9        0.272551            0.251633                 0.224184  0.475816   \n",
      "10       0.088018            0.374655                 0.162673  0.537327   \n",
      "11       0.222060            0.285293                 0.207353  0.492647   \n",
      "12       0.175492            0.316339                 0.191831  0.508169   \n",
      "13       0.168959            0.320694                 0.189653  0.510347   \n",
      "14       0.094394            0.370404                 0.164798  0.535202   \n",
      "15       0.195783            0.302811                 0.198594  0.501406   \n",
      "16       0.114468            0.357021                 0.171489  0.528511   \n",
      "17       0.252069            0.265288                 0.217356  0.482644   \n",
      "18       0.289268            0.240488                 0.229756  0.470244   \n",
      "19       0.054397            0.397069                 0.151466  0.548534   \n",
      "20       0.292799            0.238134                 0.230933  0.469067   \n",
      "21       0.138498            0.341002                 0.179499  0.520501   \n",
      "22       0.012890            0.424740                 0.137630  0.562370   \n",
      "23       0.184788            0.310141                 0.194929  0.505071   \n",
      "24       0.148145            0.334570                 0.182715  0.517285   \n",
      "25       0.027261            0.415159                 0.142420  0.557580   \n",
      "26       0.032058            0.411961                 0.144019  0.555981   \n",
      "27       0.120323            0.353118                 0.173441  0.526559   \n",
      "28       0.043096            0.404603                 0.147699  0.552301   \n",
      "29       0.274701            0.250199                 0.224900  0.475100   \n",
      "..            ...                 ...                      ...       ...   \n",
      "70       0.244198            0.270535                 0.214733  0.485267   \n",
      "71       0.160367            0.326422                 0.186789  0.513211   \n",
      "72       0.114535            0.356976                 0.171512  0.528488   \n",
      "73       0.020837            0.419442                 0.140279  0.559721   \n",
      "74       0.096825            0.368784                 0.165608  0.534392   \n",
      "75       0.084483            0.377012                 0.161494  0.538506   \n",
      "76       0.243956            0.270696                 0.214652  0.485348   \n",
      "77       0.109170            0.360553                 0.169723  0.530277   \n",
      "78       0.009469            0.427021                 0.136490  0.563510   \n",
      "79       0.120244            0.353171                 0.173415  0.526585   \n",
      "80       0.010326            0.426449                 0.136775  0.563225   \n",
      "81       0.004681            0.430213                 0.134894  0.565106   \n",
      "82       0.276600            0.248933                 0.225533  0.474467   \n",
      "83       0.042062            0.405292                 0.147354  0.552646   \n",
      "84       0.066724            0.388851                 0.155575  0.544425   \n",
      "85       0.010661            0.426226                 0.136887  0.563113   \n",
      "86       0.163007            0.324662                 0.187669  0.512331   \n",
      "87       0.100973            0.366018                 0.166991  0.533009   \n",
      "88       0.298934            0.234044                 0.232978  0.467022   \n",
      "89       0.021941            0.418706                 0.140647  0.559353   \n",
      "90       0.089829            0.373448                 0.163276  0.536724   \n",
      "91       0.279636            0.246909                 0.226545  0.473455   \n",
      "92       0.151680            0.332213                 0.183893  0.516107   \n",
      "93       0.170598            0.319601                 0.190199  0.509801   \n",
      "94       0.189778            0.306815                 0.196593  0.503407   \n",
      "95       0.048837            0.400775                 0.149612  0.550388   \n",
      "96       0.088210            0.374527                 0.162737  0.537263   \n",
      "97       0.154400            0.330400                 0.184800  0.515200   \n",
      "98       0.103657            0.364229                 0.167886  0.532114   \n",
      "99       0.078962            0.380692                 0.159654  0.540346   \n",
      "\n",
      "           P         H  \n",
      "0   0.441057  0.811324  \n",
      "1   0.470889  0.781338  \n",
      "2   0.455079  0.796401  \n",
      "3   0.436878  0.816014  \n",
      "4   0.454344  0.797150  \n",
      "5   0.499814  0.760105  \n",
      "6   0.512294  0.754187  \n",
      "7   0.524264  0.750818  \n",
      "8   0.445182  0.806799  \n",
      "9   0.524184  0.750832  \n",
      "10  0.462673  0.788910  \n",
      "11  0.507353  0.756257  \n",
      "12  0.491831  0.765008  \n",
      "13  0.489653  0.766482  \n",
      "14  0.464798  0.786896  \n",
      "15  0.498594  0.760800  \n",
      "16  0.471489  0.780808  \n",
      "17  0.517356  0.752466  \n",
      "18  0.529756  0.750130  \n",
      "19  0.451466  0.800119  \n",
      "20  0.530933  0.750059  \n",
      "21  0.479499  0.774069  \n",
      "22  0.437630  0.815162  \n",
      "23  0.494929  0.763009  \n",
      "24  0.482715  0.771545  \n",
      "25  0.442420  0.809816  \n",
      "26  0.444019  0.808063  \n",
      "27  0.473441  0.779109  \n",
      "28  0.447699  0.804091  \n",
      "29  0.524900  0.750709  \n",
      "..       ...       ...  \n",
      "70  0.514733  0.753306  \n",
      "71  0.486789  0.768506  \n",
      "72  0.471512  0.780789  \n",
      "73  0.440279  0.812189  \n",
      "74  0.465608  0.786138  \n",
      "75  0.461494  0.790043  \n",
      "76  0.514652  0.753333  \n",
      "77  0.469723  0.782376  \n",
      "78  0.436490  0.816454  \n",
      "79  0.473415  0.779132  \n",
      "80  0.436775  0.816130  \n",
      "81  0.434894  0.818275  \n",
      "82  0.525533  0.750608  \n",
      "83  0.447354  0.804460  \n",
      "84  0.455575  0.795899  \n",
      "85  0.436887  0.816003  \n",
      "86  0.487669  0.767875  \n",
      "87  0.466991  0.784857  \n",
      "88  0.532978  0.750001  \n",
      "89  0.440647  0.811779  \n",
      "90  0.463276  0.788334  \n",
      "91  0.526545  0.750462  \n",
      "92  0.483893  0.770647  \n",
      "93  0.490199  0.766107  \n",
      "94  0.496593  0.761985  \n",
      "95  0.449612  0.802061  \n",
      "96  0.462737  0.788849  \n",
      "97  0.484800  0.769967  \n",
      "98  0.467886  0.784038  \n",
      "99  0.459654  0.791834  \n",
      "\n",
      "[100 rows x 6 columns]\n"
     ]
    },
    {
     "name": "stderr",
     "output_type": "stream",
     "text": [
      "/usr/lib/python3/dist-packages/pandas/core/frame.py:4416: RuntimeWarning: unorderable types: str() < int(), sort order is undefined for incomparable objects\n",
      "  other.index).difference(self.columns).tolist()\n"
     ]
    }
   ],
   "source": [
    "\n",
    "df_after_merger['Q']=df_after_merger['output_merged_firm']+df_after_merger['output_non_merging_firm']\n",
    "df_after_merger.append(df_after_merger['Q'])\n",
    "df_after_merger['P']=[1]-df_after_merger['Q']\n",
    "df_after_merger.append(df_after_merger['P'])\n",
    "df_after_merger['H']=(df_after_merger['output_merged_firm']/df_after_merger['Q'])**2+(df_after_merger['output_non_merging_firm']/df_after_merger['Q'])\n",
    "df_after_merger.append(df_after_merger['H'])\n",
    "print(df_after_merger)"
   ]
  },
  {
   "cell_type": "markdown",
   "metadata": {},
   "source": [
    "#### e) [0.5 points] Make a histogram of the equilibrium price `P` after the merger. Also indicate in the histogram the equilibrium price before the merger `P0`. Label the horizontal axis with $P$.\n",
    "\n",
    "[hint: you may want to use matplotlib's `hist`, `vlines` and `legend` to make this graph (e.g use google to find these functions); but feel free to use something else]"
   ]
  },
  {
   "cell_type": "code",
   "execution_count": 28,
   "metadata": {
    "deletable": false,
    "nbgrader": {
     "checksum": "b103cd98545261b20f937f4b9db67f68",
     "grade": true,
     "grade_id": "cell-f9193bf8e71f1a9a",
     "locked": false,
     "points": 0.5,
     "schema_version": 1,
     "solution": true
    }
   },
   "outputs": [
    {
     "data": {
      "text/plain": [
       "<matplotlib.collections.LineCollection at 0x7fbadce082b0>"
      ]
     },
     "execution_count": 28,
     "metadata": {},
     "output_type": "execute_result"
    },
    {
     "data": {
      "image/png": "[encoded data removed]",
      "text/plain": [
       "<matplotlib.figure.Figure at 0x7fbadce0fb38>"
      ]
     },
     "metadata": {},
     "output_type": "display_data"
    }
   ],
   "source": [
    "plt.hist(df_after_merger['P'])\n",
    "plt.xlabel('Price')\n",
    "plt.vlines(x=P0,ymin=0,ymax=14)"
   ]
  },
  {
   "cell_type": "markdown",
   "metadata": {},
   "source": [
    "#### f) [0.5 points] Explain why sometimes the equilibrium price after the merger exceeds the equilibrium price before the merger and sometimes it is lower than the pre-merger price. [hint: there is a trade off between two effects, depending on which effect dominates, equilibrium price increases or decreases after the merger]"
   ]
  },
  {
   "cell_type": "markdown",
   "metadata": {
    "deletable": false,
    "nbgrader": {
     "checksum": "dd9fc721b7cf7f66587e93cbfb758034",
     "grade": true,
     "grade_id": "cell-7a1f367cd2854156",
     "locked": false,
     "points": 0.5,
     "schema_version": 1,
     "solution": true
    }
   },
   "source": [
    "If the firm's increase in market power dominates this will lead to a lower equilibrium price than the original equilibrium. If the increase in quantity dominates then the price will increase to beyond the original equilibrium price."
   ]
  },
  {
   "cell_type": "markdown",
   "metadata": {
    "deletable": false,
    "editable": false,
    "nbgrader": {
     "checksum": "e1e41dbf14c605bf91cdc78f70eada99",
     "grade": false,
     "grade_id": "cell-06ed6044f8938a45",
     "locked": true,
     "schema_version": 1,
     "solution": false
    }
   },
   "source": [
    "#### g) [0.5 points] Make a graph with the Herfindahl index on the horizontal axis and the equilibrium price on the vertical axis. This is straightforward for $(H,P)$ after the merger as both values are in the dataframe. Add in another color, the pre-merger combination `(H0,P0)` that we calculated above."
   ]
  },
  {
   "cell_type": "code",
   "execution_count": 29,
   "metadata": {
    "deletable": false,
    "nbgrader": {
     "checksum": "51cfaacbaf533e85d9794bc74712afd5",
     "grade": true,
     "grade_id": "cell-d647464d04870b73",
     "locked": false,
     "points": 0.5,
     "schema_version": 1,
     "solution": true
    }
   },
   "outputs": [
    {
     "data": {
      "text/plain": [
       "<matplotlib.legend.Legend at 0x7fbadcca2ef0>"
      ]
     },
     "execution_count": 29,
     "metadata": {},
     "output_type": "execute_result"
    },
    {
     "data": {
      "image/png": "[encoded data removed]",
      "text/plain": [
       "<matplotlib.figure.Figure at 0x7fbadcdc9e10>"
      ]
     },
     "metadata": {},
     "output_type": "display_data"
    }
   ],
   "source": [
    "plt.scatter(df_after_merger['H'],df_after_merger['P'],label='Relationship Between Price and Herfindahl Index')\n",
    "plt.scatter(H0,P0,label='Original Price and Herfindahl Index')\n",
    "plt.xlabel('Herfindahl index')\n",
    "plt.ylabel('Price')\n",
    "plt.legend()\n"
   ]
  },
  {
   "cell_type": "markdown",
   "metadata": {
    "deletable": false,
    "editable": false,
    "nbgrader": {
     "checksum": "11b6609131b1c25886f2c6cafe0f7a59",
     "grade": false,
     "grade_id": "cell-5c5e5776a7c135a2",
     "locked": true,
     "schema_version": 1,
     "solution": false
    }
   },
   "source": [
    "#### h) [0.5 points] Use the graph under g) to discuss the relation between the Herfindahl index and the equilibrium price. To illustrate, some people think that lower values of the Herfindahl index are associated with more competitive outcome. Would you agree with this?"
   ]
  },
  {
   "cell_type": "markdown",
   "metadata": {
    "collapsed": true,
    "deletable": false,
    "nbgrader": {
     "checksum": "3d396887dde3b00420c623b9f4ea8ed2",
     "grade": true,
     "grade_id": "cell-cbd89d483b23a953",
     "locked": false,
     "points": 0.5,
     "schema_version": 1,
     "solution": true
    }
   },
   "source": [
    "The graph in G shows that a higher Herfindahl index correlates with a lower equilibrium price. I would argue that a lower Herfindahl index does not correlate to a more competitive market outcome, because in a competitive market, the price would be driven down by symmetric firms. In this case, a lower Herfindahl index correlates to higher prices, contradicting the issued statement."
   ]
  },
  {
   "cell_type": "markdown",
   "metadata": {},
   "source": [
    "## Github\n",
    "\n",
    "After you have finished, we need to upload this notebook on github. Make sure that you upload the file on the github page of each collaborator."
   ]
  },
  {
   "cell_type": "markdown",
   "metadata": {},
   "source": [
    "Instructions on how to upload this on github can be found [on this page](http://janboone.github.io/programming-for-economists/github.html). This page has two screencasts: one shows how to drag the notebook onto your github page, the other shows how you can use the command line to upload your notebook.\n"
   ]
  },
  {
   "cell_type": "markdown",
   "metadata": {},
   "source": [
    "Remember to update the README file in your repository to include a link to this notebook on github.\n",
    "\n",
    "\n",
    "The links that you should post start with “github.com/” and are NOT of the form “http://localhost”. Make sure you test your links after uploading."
   ]
  },
  {
   "cell_type": "code",
   "execution_count": null,
   "metadata": {},
   "outputs": [],
   "source": []
  }
 ],
 "metadata": {
  "anaconda-cloud": {},
  "kernelspec": {
   "display_name": "Python 3",
   "language": "python",
   "name": "python3"
  },
  "language_info": {
   "codemirror_mode": {
    "name": "ipython",
    "version": 3
   },
   "file_extension": ".py",
   "mimetype": "text/x-python",
   "name": "python",
   "nbconvert_exporter": "python",
   "pygments_lexer": "ipython3",
   "version": "3.5.3"
  }
 },
 "nbformat": 4,
 "nbformat_minor": 1
}
